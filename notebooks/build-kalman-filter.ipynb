{
 "cells": [
  {
   "cell_type": "markdown",
   "metadata": {},
   "source": [
    "# Generate a random set of observation\n",
    "Using a linear trend"
   ]
  },
  {
   "cell_type": "code",
   "execution_count": null,
   "metadata": {},
   "outputs": [],
   "source": [
    "import matplotlib.pyplot as plt\n",
    "\n",
    "import numpy as np\n",
    "\n",
    "from scipy import stats\n",
    "\n",
    "# Number of samples\n",
    "n_samples = 10000\n",
    "rng = np.random.RandomState(72)\n",
    "\n",
    "# Set up variances\n",
    "v = 100\n",
    "w = np.identity(2) * 1e-4\n",
    "\n",
    "# Generate the random noise\n",
    "obs_noise = stats.norm(0, v).rvs(n_samples, rng)\n",
    "state_noise = stats.multivariate_normal([0, 0], w).rvs(n_samples, rng)\n",
    "\n",
    "# Generate the variables\n",
    "theta = np.zeros((n_samples, 2))\n",
    "y = obs_noise\n",
    "for n in np.arange(n_samples - 1) + 1:\n",
    "    theta[n, 0] = theta[n - 1, 0] + theta[n - 1, 1] + state_noise[n, 0]\n",
    "    theta[n, 1] = theta[n - 1, 1] + state_noise[n, 1]\n",
    "    y[n] += theta[n, 0]"
   ]
  },
  {
   "cell_type": "code",
   "execution_count": null,
   "metadata": {},
   "outputs": [
    {
     "ename": "SyntaxError",
     "evalue": "invalid syntax (721059195.py, line 4)",
     "output_type": "error",
     "traceback": [
      "\u001b[1;36m  Cell \u001b[1;32mIn[1], line 4\u001b[1;36m\u001b[0m\n\u001b[1;33m    ) -> np.ndarray\u001b[0m\n\u001b[1;37m    ^\u001b[0m\n\u001b[1;31mSyntaxError\u001b[0m\u001b[1;31m:\u001b[0m invalid syntax\n"
     ]
    }
   ],
   "source": [
    "from typing import Tuple, Union\n",
    "\n",
    "import numpy as np\n",
    "\n",
    "\n",
    "def generate_random_trend(\n",
    "    n_samples: int,\n",
    "    obv_var: float,\n",
    "    state_cov: Union[float, np.ndaray],\n",
    "    seed: int = 72,\n",
    "    theta_0: Tuple[float, float] = (0, 0)\n",
    ") -> np.ndarray:\n",
    "    \"\"\"\n",
    "    Given the obervational and state variances, generate a random timeseries with \\\n",
    "        linear trend of the selected length.\n",
    "\n",
    "    Parameters\n",
    "    -----------\n",
    "    n_samples: int\n",
    "        The timeseries length.\n",
    "    obs_var: float\n",
    "        The variances of the observational level.\n",
    "    state_cov: float | np.ndarray\n",
    "        The covariance matrix of the state level. If a float, then the resulting covariance \\\n",
    "        matrix is created by scaling the 2x2 identity matrix by the selected value. \\\n",
    "        If an array is passed, it must be a 2x2 matrix.\n",
    "    seed: int\n",
    "        The seed number to initialize the random number generator.\n",
    "    theta_0: (float, float)\n",
    "        A tuple of initial values for the parameters thetas.\n",
    "\n",
    "    Returns\n",
    "    -------\n",
    "        np.ndarray\n",
    "    \"\"\"\n",
    "    # Validate inputs\n",
    "    state_cov = [np.identity ]\n"
   ]
  },
  {
   "cell_type": "code",
   "execution_count": null,
   "metadata": {},
   "outputs": [],
   "source": []
  }
 ],
 "metadata": {
  "kernelspec": {
   "display_name": ".venv",
   "language": "python",
   "name": "python3"
  },
  "language_info": {
   "codemirror_mode": {
    "name": "ipython",
    "version": 3
   },
   "file_extension": ".py",
   "mimetype": "text/x-python",
   "name": "python",
   "nbconvert_exporter": "python",
   "pygments_lexer": "ipython3",
   "version": "3.12.0"
  }
 },
 "nbformat": 4,
 "nbformat_minor": 2
}
